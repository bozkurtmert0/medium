{
  "nbformat": 4,
  "nbformat_minor": 0,
  "metadata": {
    "colab": {
      "name": "Yapay Sinir Ağları Mantığı.ipynb",
      "provenance": [],
      "authorship_tag": "ABX9TyNZTvpLJWyji1zdzJTEJFpp",
      "include_colab_link": true
    },
    "kernelspec": {
      "name": "python3",
      "display_name": "Python 3"
    },
    "accelerator": "GPU"
  },
  "cells": [
    {
      "cell_type": "markdown",
      "metadata": {
        "id": "view-in-github",
        "colab_type": "text"
      },
      "source": [
        "<a href=\"https://colab.research.google.com/github/bozkurtmert0/medium/blob/main/Yapay_Sinir_A%C4%9Flar%C4%B1_Mant%C4%B1%C4%9F%C4%B1.ipynb\" target=\"_parent\"><img src=\"https://colab.research.google.com/assets/colab-badge.svg\" alt=\"Open In Colab\"/></a>"
      ]
    },
    {
      "cell_type": "code",
      "metadata": {
        "id": "VgPBTwVKs_Yk"
      },
      "source": [
        "import keras\r\n",
        "import tensorflow as tf\r\n",
        "import numpy as np\r\n",
        "from keras.layers import Dense, Activation"
      ],
      "execution_count": 2,
      "outputs": []
    },
    {
      "cell_type": "code",
      "metadata": {
        "id": "Q9tPji7UtCDi"
      },
      "source": [
        "model = keras.Sequential([keras.layers.Dense(units = 1, input_shape = [1])])"
      ],
      "execution_count": 3,
      "outputs": []
    },
    {
      "cell_type": "code",
      "metadata": {
        "id": "nRqmGIUWtD8p"
      },
      "source": [
        "model.compile(loss='mean_squared_error',\r\n",
        "              optimizer='rmsprop', \r\n",
        "              metrics=['mean_absolute_error', 'mean_squared_error'])"
      ],
      "execution_count": 4,
      "outputs": []
    },
    {
      "cell_type": "markdown",
      "metadata": {
        "id": "kbgo41em1WLZ"
      },
      "source": [
        "Makinemizin öğrenmesi için kullancağımız verilerimiz"
      ]
    },
    {
      "cell_type": "code",
      "metadata": {
        "id": "8lF_JnzwtGmh"
      },
      "source": [
        "xs = np.array([0.0 ,20.0 ,50.0 ,70.0 ,120.0 ,150.0,200.0 , 300.0]  ,dtype =float)\r\n",
        "ys = np.array([0.0, 12.42 ,31.06 ,43.49 ,74.56 ,93.20, 124.27 ,186.41] ,dtype =float)"
      ],
      "execution_count": 5,
      "outputs": []
    },
    {
      "cell_type": "code",
      "metadata": {
        "colab": {
          "base_uri": "https://localhost:8080/"
        },
        "id": "47-br0XmtIQZ",
        "outputId": "0bbe8c4b-f5c1-47ea-a671-41ef023d7915"
      },
      "source": [
        "model.fit(xs,ys,epochs = 50)"
      ],
      "execution_count": 9,
      "outputs": [
        {
          "output_type": "stream",
          "text": [
            "Epoch 1/50\n",
            "1/1 [==============================] - 0s 2ms/step - loss: 0.0075 - mean_absolute_error: 0.0680 - mean_squared_error: 0.0075\n",
            "Epoch 2/50\n",
            "1/1 [==============================] - 0s 1ms/step - loss: 0.0075 - mean_absolute_error: 0.0854 - mean_squared_error: 0.0075\n",
            "Epoch 3/50\n",
            "1/1 [==============================] - 0s 1ms/step - loss: 0.0075 - mean_absolute_error: 0.0677 - mean_squared_error: 0.0075\n",
            "Epoch 4/50\n",
            "1/1 [==============================] - 0s 2ms/step - loss: 0.0074 - mean_absolute_error: 0.0851 - mean_squared_error: 0.0074\n",
            "Epoch 5/50\n",
            "1/1 [==============================] - 0s 1ms/step - loss: 0.0074 - mean_absolute_error: 0.0673 - mean_squared_error: 0.0074\n",
            "Epoch 6/50\n",
            "1/1 [==============================] - 0s 1ms/step - loss: 0.0074 - mean_absolute_error: 0.0847 - mean_squared_error: 0.0074\n",
            "Epoch 7/50\n",
            "1/1 [==============================] - 0s 2ms/step - loss: 0.0074 - mean_absolute_error: 0.0670 - mean_squared_error: 0.0074\n",
            "Epoch 8/50\n",
            "1/1 [==============================] - 0s 1ms/step - loss: 0.0073 - mean_absolute_error: 0.0844 - mean_squared_error: 0.0073\n",
            "Epoch 9/50\n",
            "1/1 [==============================] - 0s 2ms/step - loss: 0.0073 - mean_absolute_error: 0.0667 - mean_squared_error: 0.0073\n",
            "Epoch 10/50\n",
            "1/1 [==============================] - 0s 2ms/step - loss: 0.0073 - mean_absolute_error: 0.0841 - mean_squared_error: 0.0073\n",
            "Epoch 11/50\n",
            "1/1 [==============================] - 0s 1ms/step - loss: 0.0073 - mean_absolute_error: 0.0663 - mean_squared_error: 0.0073\n",
            "Epoch 12/50\n",
            "1/1 [==============================] - 0s 1ms/step - loss: 0.0073 - mean_absolute_error: 0.0838 - mean_squared_error: 0.0073\n",
            "Epoch 13/50\n",
            "1/1 [==============================] - 0s 2ms/step - loss: 0.0072 - mean_absolute_error: 0.0660 - mean_squared_error: 0.0072\n",
            "Epoch 14/50\n",
            "1/1 [==============================] - 0s 1ms/step - loss: 0.0072 - mean_absolute_error: 0.0834 - mean_squared_error: 0.0072\n",
            "Epoch 15/50\n",
            "1/1 [==============================] - 0s 3ms/step - loss: 0.0072 - mean_absolute_error: 0.0657 - mean_squared_error: 0.0072\n",
            "Epoch 16/50\n",
            "1/1 [==============================] - 0s 2ms/step - loss: 0.0072 - mean_absolute_error: 0.0831 - mean_squared_error: 0.0072\n",
            "Epoch 17/50\n",
            "1/1 [==============================] - 0s 1ms/step - loss: 0.0071 - mean_absolute_error: 0.0653 - mean_squared_error: 0.0071\n",
            "Epoch 18/50\n",
            "1/1 [==============================] - 0s 1ms/step - loss: 0.0071 - mean_absolute_error: 0.0828 - mean_squared_error: 0.0071\n",
            "Epoch 19/50\n",
            "1/1 [==============================] - 0s 1ms/step - loss: 0.0071 - mean_absolute_error: 0.0650 - mean_squared_error: 0.0071\n",
            "Epoch 20/50\n",
            "1/1 [==============================] - 0s 1ms/step - loss: 0.0071 - mean_absolute_error: 0.0825 - mean_squared_error: 0.0071\n",
            "Epoch 21/50\n",
            "1/1 [==============================] - 0s 1ms/step - loss: 0.0071 - mean_absolute_error: 0.0647 - mean_squared_error: 0.0071\n",
            "Epoch 22/50\n",
            "1/1 [==============================] - 0s 1ms/step - loss: 0.0070 - mean_absolute_error: 0.0822 - mean_squared_error: 0.0070\n",
            "Epoch 23/50\n",
            "1/1 [==============================] - 0s 3ms/step - loss: 0.0070 - mean_absolute_error: 0.0644 - mean_squared_error: 0.0070\n",
            "Epoch 24/50\n",
            "1/1 [==============================] - 0s 2ms/step - loss: 0.0070 - mean_absolute_error: 0.0819 - mean_squared_error: 0.0070\n",
            "Epoch 25/50\n",
            "1/1 [==============================] - 0s 3ms/step - loss: 0.0070 - mean_absolute_error: 0.0641 - mean_squared_error: 0.0070\n",
            "Epoch 26/50\n",
            "1/1 [==============================] - 0s 3ms/step - loss: 0.0070 - mean_absolute_error: 0.0816 - mean_squared_error: 0.0070\n",
            "Epoch 27/50\n",
            "1/1 [==============================] - 0s 3ms/step - loss: 0.0070 - mean_absolute_error: 0.0638 - mean_squared_error: 0.0070\n",
            "Epoch 28/50\n",
            "1/1 [==============================] - 0s 3ms/step - loss: 0.0069 - mean_absolute_error: 0.0813 - mean_squared_error: 0.0069\n",
            "Epoch 29/50\n",
            "1/1 [==============================] - 0s 2ms/step - loss: 0.0069 - mean_absolute_error: 0.0635 - mean_squared_error: 0.0069\n",
            "Epoch 30/50\n",
            "1/1 [==============================] - 0s 2ms/step - loss: 0.0069 - mean_absolute_error: 0.0810 - mean_squared_error: 0.0069\n",
            "Epoch 31/50\n",
            "1/1 [==============================] - 0s 3ms/step - loss: 0.0069 - mean_absolute_error: 0.0632 - mean_squared_error: 0.0069\n",
            "Epoch 32/50\n",
            "1/1 [==============================] - 0s 3ms/step - loss: 0.0069 - mean_absolute_error: 0.0807 - mean_squared_error: 0.0069\n",
            "Epoch 33/50\n",
            "1/1 [==============================] - 0s 3ms/step - loss: 0.0069 - mean_absolute_error: 0.0629 - mean_squared_error: 0.0069\n",
            "Epoch 34/50\n",
            "1/1 [==============================] - 0s 2ms/step - loss: 0.0068 - mean_absolute_error: 0.0804 - mean_squared_error: 0.0068\n",
            "Epoch 35/50\n",
            "1/1 [==============================] - 0s 3ms/step - loss: 0.0068 - mean_absolute_error: 0.0627 - mean_squared_error: 0.0068\n",
            "Epoch 36/50\n",
            "1/1 [==============================] - 0s 2ms/step - loss: 0.0068 - mean_absolute_error: 0.0801 - mean_squared_error: 0.0068\n",
            "Epoch 37/50\n",
            "1/1 [==============================] - 0s 2ms/step - loss: 0.0068 - mean_absolute_error: 0.0625 - mean_squared_error: 0.0068\n",
            "Epoch 38/50\n",
            "1/1 [==============================] - 0s 2ms/step - loss: 0.0068 - mean_absolute_error: 0.0798 - mean_squared_error: 0.0068\n",
            "Epoch 39/50\n",
            "1/1 [==============================] - 0s 2ms/step - loss: 0.0068 - mean_absolute_error: 0.0624 - mean_squared_error: 0.0068\n",
            "Epoch 40/50\n",
            "1/1 [==============================] - 0s 2ms/step - loss: 0.0067 - mean_absolute_error: 0.0796 - mean_squared_error: 0.0067\n",
            "Epoch 41/50\n",
            "1/1 [==============================] - 0s 2ms/step - loss: 0.0067 - mean_absolute_error: 0.0622 - mean_squared_error: 0.0067\n",
            "Epoch 42/50\n",
            "1/1 [==============================] - 0s 2ms/step - loss: 0.0067 - mean_absolute_error: 0.0793 - mean_squared_error: 0.0067\n",
            "Epoch 43/50\n",
            "1/1 [==============================] - 0s 2ms/step - loss: 0.0067 - mean_absolute_error: 0.0620 - mean_squared_error: 0.0067\n",
            "Epoch 44/50\n",
            "1/1 [==============================] - 0s 2ms/step - loss: 0.0067 - mean_absolute_error: 0.0790 - mean_squared_error: 0.0067\n",
            "Epoch 45/50\n",
            "1/1 [==============================] - 0s 2ms/step - loss: 0.0067 - mean_absolute_error: 0.0619 - mean_squared_error: 0.0067\n",
            "Epoch 46/50\n",
            "1/1 [==============================] - 0s 3ms/step - loss: 0.0067 - mean_absolute_error: 0.0788 - mean_squared_error: 0.0067\n",
            "Epoch 47/50\n",
            "1/1 [==============================] - 0s 3ms/step - loss: 0.0066 - mean_absolute_error: 0.0617 - mean_squared_error: 0.0066\n",
            "Epoch 48/50\n",
            "1/1 [==============================] - 0s 3ms/step - loss: 0.0066 - mean_absolute_error: 0.0785 - mean_squared_error: 0.0066\n",
            "Epoch 49/50\n",
            "1/1 [==============================] - 0s 2ms/step - loss: 0.0066 - mean_absolute_error: 0.0615 - mean_squared_error: 0.0066\n",
            "Epoch 50/50\n",
            "1/1 [==============================] - 0s 2ms/step - loss: 0.0066 - mean_absolute_error: 0.0782 - mean_squared_error: 0.0066\n"
          ],
          "name": "stdout"
        },
        {
          "output_type": "execute_result",
          "data": {
            "text/plain": [
              "<tensorflow.python.keras.callbacks.History at 0x7f8c000736d8>"
            ]
          },
          "metadata": {
            "tags": []
          },
          "execution_count": 9
        }
      ]
    },
    {
      "cell_type": "code",
      "metadata": {
        "colab": {
          "base_uri": "https://localhost:8080/"
        },
        "id": "1LUPVYh2ue6R",
        "outputId": "29d39ba9-4db8-4ca5-83cc-51d4c36bb043"
      },
      "source": [
        "print(model.predict([100.0]))"
      ],
      "execution_count": 10,
      "outputs": [
        {
          "output_type": "stream",
          "text": [
            "[[62.15832]]\n"
          ],
          "name": "stdout"
        }
      ]
    },
    {
      "cell_type": "code",
      "metadata": {
        "colab": {
          "base_uri": "https://localhost:8080/"
        },
        "id": "7ThuwVkrs82C",
        "outputId": "22472f0f-0a63-4850-a32b-2772cfc9033f"
      },
      "source": [
        "w = model.get_weights()\r\n",
        "print(w[0])"
      ],
      "execution_count": 12,
      "outputs": [
        {
          "output_type": "stream",
          "text": [
            "[[0.62214774]]\n"
          ],
          "name": "stdout"
        }
      ]
    },
    {
      "cell_type": "code",
      "metadata": {
        "id": "BpPX-deYtl4a"
      },
      "source": [
        ""
      ],
      "execution_count": null,
      "outputs": []
    }
  ]
}