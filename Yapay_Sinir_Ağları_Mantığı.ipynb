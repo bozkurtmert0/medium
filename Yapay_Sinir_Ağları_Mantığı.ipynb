{
  "nbformat": 4,
  "nbformat_minor": 0,
  "metadata": {
    "colab": {
      "name": "Yapay Sinir Ağları Mantığı.ipynb",
      "provenance": [],
      "authorship_tag": "ABX9TyNEIciOf90mDHv6bi7j93We",
      "include_colab_link": true
    },
    "kernelspec": {
      "name": "python3",
      "display_name": "Python 3"
    },
    "accelerator": "GPU"
  },
  "cells": [
    {
      "cell_type": "markdown",
      "metadata": {
        "id": "view-in-github",
        "colab_type": "text"
      },
      "source": [
        "<a href=\"https://colab.research.google.com/github/bozkurtmert0/medium/blob/main/Yapay_Sinir_A%C4%9Flar%C4%B1_Mant%C4%B1%C4%9F%C4%B1.ipynb\" target=\"_parent\"><img src=\"https://colab.research.google.com/assets/colab-badge.svg\" alt=\"Open In Colab\"/></a>"
      ]
    },
    {
      "cell_type": "markdown",
      "metadata": {
        "id": "WjqV7vPqYMbN"
      },
      "source": [
        "# Kilometreyi Mile çevirme\r\n",
        "\r\n",
        "\r\n",
        "\r\n"
      ]
    },
    {
      "cell_type": "code",
      "metadata": {
        "id": "VgPBTwVKs_Yk"
      },
      "source": [
        "import keras\r\n",
        "import tensorflow as tf\r\n",
        "import numpy as np"
      ],
      "execution_count": 1,
      "outputs": []
    },
    {
      "cell_type": "code",
      "metadata": {
        "id": "Q9tPji7UtCDi"
      },
      "source": [
        "model = keras.Sequential([keras.layers.Dense(units = 1, input_shape = [1] ,activation= 'relu')])"
      ],
      "execution_count": 9,
      "outputs": []
    },
    {
      "cell_type": "code",
      "metadata": {
        "id": "nRqmGIUWtD8p"
      },
      "source": [
        "model.compile(loss='mean_squared_error',\r\n",
        "              optimizer='rmsprop')"
      ],
      "execution_count": 10,
      "outputs": []
    },
    {
      "cell_type": "markdown",
      "metadata": {
        "id": "kbgo41em1WLZ"
      },
      "source": [
        "Makinemizin öğrenmesi için kullancağımız verilerimiz"
      ]
    },
    {
      "cell_type": "code",
      "metadata": {
        "id": "8lF_JnzwtGmh"
      },
      "source": [
        "xs = np.array([0.00 ,20.00 ,50.00 ,70.00 ,120.00 ,150.00,200.00 , 300.00]  ,dtype =float)\r\n",
        "ys = np.array([0.00, 12.42 ,31.06 ,43.49 ,74.56 ,93.20, 124.27 ,186.41] ,dtype =float)"
      ],
      "execution_count": 11,
      "outputs": []
    },
    {
      "cell_type": "code",
      "metadata": {
        "id": "Nv9wZckZVfg2"
      },
      "source": [
        "weights = [np.random.rand(*w.shape) for w in model.get_weights()]\r\n",
        "model.set_weights(weights)"
      ],
      "execution_count": 36,
      "outputs": []
    },
    {
      "cell_type": "code",
      "metadata": {
        "colab": {
          "base_uri": "https://localhost:8080/"
        },
        "id": "47-br0XmtIQZ",
        "outputId": "c2ff4612-abcf-4c40-a614-c2ca5d09cfbf"
      },
      "source": [
        "model.fit(xs,ys,epochs = 50)"
      ],
      "execution_count": 16,
      "outputs": [
        {
          "output_type": "stream",
          "text": [
            "Epoch 1/50\n",
            "1/1 [==============================] - 0s 906us/step - loss: 6.5652e-04\n",
            "Epoch 2/50\n",
            "1/1 [==============================] - 0s 1ms/step - loss: 4.7204e-04\n",
            "Epoch 3/50\n",
            "1/1 [==============================] - 0s 2ms/step - loss: 4.3727e-04\n",
            "Epoch 4/50\n",
            "1/1 [==============================] - 0s 2ms/step - loss: 4.2405e-04\n",
            "Epoch 5/50\n",
            "1/1 [==============================] - 0s 2ms/step - loss: 4.1321e-04\n",
            "Epoch 6/50\n",
            "1/1 [==============================] - 0s 1ms/step - loss: 4.0241e-04\n",
            "Epoch 7/50\n",
            "1/1 [==============================] - 0s 2ms/step - loss: 3.9142e-04\n",
            "Epoch 8/50\n",
            "1/1 [==============================] - 0s 1ms/step - loss: 3.8026e-04\n",
            "Epoch 9/50\n",
            "1/1 [==============================] - 0s 4ms/step - loss: 3.6892e-04\n",
            "Epoch 10/50\n",
            "1/1 [==============================] - 0s 1ms/step - loss: 3.5744e-04\n",
            "Epoch 11/50\n",
            "1/1 [==============================] - 0s 2ms/step - loss: 3.4582e-04\n",
            "Epoch 12/50\n",
            "1/1 [==============================] - 0s 832us/step - loss: 3.3410e-04\n",
            "Epoch 13/50\n",
            "1/1 [==============================] - 0s 1ms/step - loss: 3.2229e-04\n",
            "Epoch 14/50\n",
            "1/1 [==============================] - 0s 3ms/step - loss: 3.1042e-04\n",
            "Epoch 15/50\n",
            "1/1 [==============================] - 0s 1ms/step - loss: 2.9851e-04\n",
            "Epoch 16/50\n",
            "1/1 [==============================] - 0s 1ms/step - loss: 2.8659e-04\n",
            "Epoch 17/50\n",
            "1/1 [==============================] - 0s 3ms/step - loss: 2.7468e-04\n",
            "Epoch 18/50\n",
            "1/1 [==============================] - 0s 2ms/step - loss: 2.6281e-04\n",
            "Epoch 19/50\n",
            "1/1 [==============================] - 0s 2ms/step - loss: 2.5101e-04\n",
            "Epoch 20/50\n",
            "1/1 [==============================] - 0s 3ms/step - loss: 2.3929e-04\n",
            "Epoch 21/50\n",
            "1/1 [==============================] - 0s 1ms/step - loss: 2.2770e-04\n",
            "Epoch 22/50\n",
            "1/1 [==============================] - 0s 1ms/step - loss: 2.1624e-04\n",
            "Epoch 23/50\n",
            "1/1 [==============================] - 0s 1ms/step - loss: 2.0495e-04\n",
            "Epoch 24/50\n",
            "1/1 [==============================] - 0s 1ms/step - loss: 1.9385e-04\n",
            "Epoch 25/50\n",
            "1/1 [==============================] - 0s 2ms/step - loss: 1.8296e-04\n",
            "Epoch 26/50\n",
            "1/1 [==============================] - 0s 2ms/step - loss: 1.7230e-04\n",
            "Epoch 27/50\n",
            "1/1 [==============================] - 0s 2ms/step - loss: 1.6190e-04\n",
            "Epoch 28/50\n",
            "1/1 [==============================] - 0s 2ms/step - loss: 1.5177e-04\n",
            "Epoch 29/50\n",
            "1/1 [==============================] - 0s 2ms/step - loss: 1.4194e-04\n",
            "Epoch 30/50\n",
            "1/1 [==============================] - 0s 2ms/step - loss: 1.3240e-04\n",
            "Epoch 31/50\n",
            "1/1 [==============================] - 0s 1ms/step - loss: 1.2320e-04\n",
            "Epoch 32/50\n",
            "1/1 [==============================] - 0s 2ms/step - loss: 1.1434e-04\n",
            "Epoch 33/50\n",
            "1/1 [==============================] - 0s 2ms/step - loss: 1.0596e-04\n",
            "Epoch 34/50\n",
            "1/1 [==============================] - 0s 2ms/step - loss: 9.8609e-05\n",
            "Epoch 35/50\n",
            "1/1 [==============================] - 0s 1ms/step - loss: 9.6441e-05\n",
            "Epoch 36/50\n",
            "1/1 [==============================] - 0s 2ms/step - loss: 1.3236e-04\n",
            "Epoch 37/50\n",
            "1/1 [==============================] - 0s 2ms/step - loss: 4.9976e-04\n",
            "Epoch 38/50\n",
            "1/1 [==============================] - 0s 1ms/step - loss: 0.0035\n",
            "Epoch 39/50\n",
            "1/1 [==============================] - 0s 2ms/step - loss: 0.0112\n",
            "Epoch 40/50\n",
            "1/1 [==============================] - 0s 1ms/step - loss: 0.0060\n",
            "Epoch 41/50\n",
            "1/1 [==============================] - 0s 1ms/step - loss: 0.0019\n",
            "Epoch 42/50\n",
            "1/1 [==============================] - 0s 2ms/step - loss: 6.2696e-04\n",
            "Epoch 43/50\n",
            "1/1 [==============================] - 0s 1ms/step - loss: 2.7861e-04\n",
            "Epoch 44/50\n",
            "1/1 [==============================] - 0s 2ms/step - loss: 1.6508e-04\n",
            "Epoch 45/50\n",
            "1/1 [==============================] - 0s 3ms/step - loss: 1.2212e-04\n",
            "Epoch 46/50\n",
            "1/1 [==============================] - 0s 2ms/step - loss: 1.0495e-04\n",
            "Epoch 47/50\n",
            "1/1 [==============================] - 0s 2ms/step - loss: 1.0037e-04\n",
            "Epoch 48/50\n",
            "1/1 [==============================] - 0s 2ms/step - loss: 1.0585e-04\n",
            "Epoch 49/50\n",
            "1/1 [==============================] - 0s 1ms/step - loss: 1.2595e-04\n",
            "Epoch 50/50\n",
            "1/1 [==============================] - 0s 1ms/step - loss: 1.7586e-04\n"
          ],
          "name": "stdout"
        },
        {
          "output_type": "execute_result",
          "data": {
            "text/plain": [
              "<tensorflow.python.keras.callbacks.History at 0x7fa39008b710>"
            ]
          },
          "metadata": {
            "tags": []
          },
          "execution_count": 16
        }
      ]
    },
    {
      "cell_type": "code",
      "metadata": {
        "colab": {
          "base_uri": "https://localhost:8080/"
        },
        "id": "1LUPVYh2ue6R",
        "outputId": "0b4a527d-6461-487b-d38d-47bf9a8810bd"
      },
      "source": [
        "print(model.predict([100.0]))"
      ],
      "execution_count": 17,
      "outputs": [
        {
          "output_type": "stream",
          "text": [
            "[[62.10739]]\n"
          ],
          "name": "stdout"
        }
      ]
    },
    {
      "cell_type": "code",
      "metadata": {
        "colab": {
          "base_uri": "https://localhost:8080/"
        },
        "id": "7ThuwVkrs82C",
        "outputId": "29bc2c32-3ffe-40b7-d70c-30974b077a9d"
      },
      "source": [
        "w = model.get_weights()\r\n",
        "print(w[0])"
      ],
      "execution_count": 19,
      "outputs": [
        {
          "output_type": "stream",
          "text": [
            "[[0.6209821]]\n"
          ],
          "name": "stdout"
        }
      ]
    },
    {
      "cell_type": "code",
      "metadata": {
        "id": "BpPX-deYtl4a"
      },
      "source": [
        ""
      ],
      "execution_count": null,
      "outputs": []
    }
  ]
}